{
 "cells": [
  {
   "cell_type": "markdown",
   "id": "cbfc13a0",
   "metadata": {},
   "source": [
    "## Kansas Chief - Linear Regression Prediction"
   ]
  },
  {
   "cell_type": "markdown",
   "id": "d423e496",
   "metadata": {},
   "source": [
    "****。Using Linear Regression**** <br>\n",
    "****。Data from 2015-2021****"
   ]
  },
  {
   "cell_type": "code",
   "execution_count": 24,
   "id": "331ff662",
   "metadata": {},
   "outputs": [],
   "source": [
    "import pandas as pd\n",
    "import numpy as np\n",
    "from sklearn.model_selection import train_test_split\n",
    "from sklearn.metrics import classification_report,accuracy_score\n",
    "from sklearn.metrics import mean_absolute_error\n",
    "from sklearn.metrics import r2_score\n",
    "from sklearn.model_selection import train_test_split\n",
    "import matplotlib.pyplot as plt\n",
    "%matplotlib inline"
   ]
  },
  {
   "cell_type": "code",
   "execution_count": 57,
   "id": "2f06f6f6",
   "metadata": {},
   "outputs": [],
   "source": [
    "kc = pd.read_csv('/Users/wendychiang/Desktop/KC_5yrs.csv')\n",
    "test = pd.read_csv('/Users/wendychiang/Desktop/KCTest.csv')"
   ]
  },
  {
   "cell_type": "code",
   "execution_count": 58,
   "id": "3a3d93d0",
   "metadata": {},
   "outputs": [
    {
     "data": {
      "text/html": [
       "<div>\n",
       "<style scoped>\n",
       "    .dataframe tbody tr th:only-of-type {\n",
       "        vertical-align: middle;\n",
       "    }\n",
       "\n",
       "    .dataframe tbody tr th {\n",
       "        vertical-align: top;\n",
       "    }\n",
       "\n",
       "    .dataframe thead th {\n",
       "        text-align: right;\n",
       "    }\n",
       "</style>\n",
       "<table border=\"1\" class=\"dataframe\">\n",
       "  <thead>\n",
       "    <tr style=\"text-align: right;\">\n",
       "      <th></th>\n",
       "      <th>TmScore</th>\n",
       "      <th>1stD_off</th>\n",
       "      <th>TotYd_off</th>\n",
       "      <th>PassY_off</th>\n",
       "      <th>RushY_off</th>\n",
       "      <th>TO_off</th>\n",
       "      <th>1stD_def</th>\n",
       "      <th>TotYd_def</th>\n",
       "      <th>PassY_def</th>\n",
       "      <th>RushY_def</th>\n",
       "      <th>TO_def</th>\n",
       "    </tr>\n",
       "  </thead>\n",
       "  <tbody>\n",
       "    <tr>\n",
       "      <th>0</th>\n",
       "      <td>44.0</td>\n",
       "      <td>33.0</td>\n",
       "      <td>488.0</td>\n",
       "      <td>360.0</td>\n",
       "      <td>128.0</td>\n",
       "      <td>1.0</td>\n",
       "      <td>18.0</td>\n",
       "      <td>282.0</td>\n",
       "      <td>179</td>\n",
       "      <td>103.0</td>\n",
       "      <td>0.0</td>\n",
       "    </tr>\n",
       "    <tr>\n",
       "      <th>1</th>\n",
       "      <td>27.0</td>\n",
       "      <td>15.0</td>\n",
       "      <td>319.0</td>\n",
       "      <td>226.0</td>\n",
       "      <td>93.0</td>\n",
       "      <td>0.0</td>\n",
       "      <td>21.0</td>\n",
       "      <td>401.0</td>\n",
       "      <td>326</td>\n",
       "      <td>75.0</td>\n",
       "      <td>1.0</td>\n",
       "    </tr>\n",
       "    <tr>\n",
       "      <th>2</th>\n",
       "      <td>17.0</td>\n",
       "      <td>20.0</td>\n",
       "      <td>315.0</td>\n",
       "      <td>257.0</td>\n",
       "      <td>58.0</td>\n",
       "      <td>2.0</td>\n",
       "      <td>19.0</td>\n",
       "      <td>259.0</td>\n",
       "      <td>177</td>\n",
       "      <td>82.0</td>\n",
       "      <td>1.0</td>\n",
       "    </tr>\n",
       "  </tbody>\n",
       "</table>\n",
       "</div>"
      ],
      "text/plain": [
       "   TmScore  1stD_off  TotYd_off  PassY_off  RushY_off  TO_off  1stD_def  \\\n",
       "0     44.0      33.0      488.0      360.0      128.0     1.0      18.0   \n",
       "1     27.0      15.0      319.0      226.0       93.0     0.0      21.0   \n",
       "2     17.0      20.0      315.0      257.0       58.0     2.0      19.0   \n",
       "\n",
       "   TotYd_def  PassY_def  RushY_def  TO_def  \n",
       "0      282.0        179      103.0     0.0  \n",
       "1      401.0        326       75.0     1.0  \n",
       "2      259.0        177       82.0     1.0  "
      ]
     },
     "execution_count": 58,
     "metadata": {},
     "output_type": "execute_result"
    }
   ],
   "source": [
    "test.head(3)"
   ]
  },
  {
   "cell_type": "code",
   "execution_count": 59,
   "id": "f1f8e726",
   "metadata": {},
   "outputs": [
    {
     "data": {
      "text/html": [
       "<div>\n",
       "<style scoped>\n",
       "    .dataframe tbody tr th:only-of-type {\n",
       "        vertical-align: middle;\n",
       "    }\n",
       "\n",
       "    .dataframe tbody tr th {\n",
       "        vertical-align: top;\n",
       "    }\n",
       "\n",
       "    .dataframe thead th {\n",
       "        text-align: right;\n",
       "    }\n",
       "</style>\n",
       "<table border=\"1\" class=\"dataframe\">\n",
       "  <thead>\n",
       "    <tr style=\"text-align: right;\">\n",
       "      <th></th>\n",
       "      <th>TmScore</th>\n",
       "      <th>1stD_off</th>\n",
       "      <th>TotYd_off</th>\n",
       "      <th>PassY_off</th>\n",
       "      <th>RushY_off</th>\n",
       "      <th>TO_off</th>\n",
       "      <th>1stD_def</th>\n",
       "      <th>TotYd_def</th>\n",
       "      <th>PassY_def</th>\n",
       "      <th>RushY_def</th>\n",
       "      <th>TO_def</th>\n",
       "    </tr>\n",
       "  </thead>\n",
       "  <tbody>\n",
       "    <tr>\n",
       "      <th>0</th>\n",
       "      <td>42</td>\n",
       "      <td>26</td>\n",
       "      <td>537</td>\n",
       "      <td>352</td>\n",
       "      <td>185</td>\n",
       "      <td>1</td>\n",
       "      <td>25</td>\n",
       "      <td>371</td>\n",
       "      <td>247</td>\n",
       "      <td>124</td>\n",
       "      <td>0</td>\n",
       "    </tr>\n",
       "    <tr>\n",
       "      <th>1</th>\n",
       "      <td>27</td>\n",
       "      <td>16</td>\n",
       "      <td>344</td>\n",
       "      <td>232</td>\n",
       "      <td>112</td>\n",
       "      <td>0</td>\n",
       "      <td>27</td>\n",
       "      <td>406</td>\n",
       "      <td>299</td>\n",
       "      <td>107</td>\n",
       "      <td>2</td>\n",
       "    </tr>\n",
       "    <tr>\n",
       "      <th>2</th>\n",
       "      <td>24</td>\n",
       "      <td>16</td>\n",
       "      <td>311</td>\n",
       "      <td>122</td>\n",
       "      <td>189</td>\n",
       "      <td>0</td>\n",
       "      <td>24</td>\n",
       "      <td>330</td>\n",
       "      <td>226</td>\n",
       "      <td>104</td>\n",
       "      <td>3</td>\n",
       "    </tr>\n",
       "    <tr>\n",
       "      <th>3</th>\n",
       "      <td>29</td>\n",
       "      <td>29</td>\n",
       "      <td>429</td>\n",
       "      <td>261</td>\n",
       "      <td>168</td>\n",
       "      <td>0</td>\n",
       "      <td>15</td>\n",
       "      <td>331</td>\n",
       "      <td>220</td>\n",
       "      <td>111</td>\n",
       "      <td>1</td>\n",
       "    </tr>\n",
       "    <tr>\n",
       "      <th>4</th>\n",
       "      <td>42</td>\n",
       "      <td>29</td>\n",
       "      <td>450</td>\n",
       "      <td>323</td>\n",
       "      <td>127</td>\n",
       "      <td>0</td>\n",
       "      <td>20</td>\n",
       "      <td>392</td>\n",
       "      <td>248</td>\n",
       "      <td>144</td>\n",
       "      <td>1</td>\n",
       "    </tr>\n",
       "  </tbody>\n",
       "</table>\n",
       "</div>"
      ],
      "text/plain": [
       "   TmScore  1stD_off  TotYd_off  PassY_off  RushY_off  TO_off  1stD_def  \\\n",
       "0       42        26        537        352        185       1        25   \n",
       "1       27        16        344        232        112       0        27   \n",
       "2       24        16        311        122        189       0        24   \n",
       "3       29        29        429        261        168       0        15   \n",
       "4       42        29        450        323        127       0        20   \n",
       "\n",
       "   TotYd_def  PassY_def  RushY_def  TO_def  \n",
       "0        371        247        124       0  \n",
       "1        406        299        107       2  \n",
       "2        330        226        104       3  \n",
       "3        331        220        111       1  \n",
       "4        392        248        144       1  "
      ]
     },
     "execution_count": 59,
     "metadata": {},
     "output_type": "execute_result"
    }
   ],
   "source": [
    "kc.head()"
   ]
  },
  {
   "cell_type": "code",
   "execution_count": 94,
   "id": "ac538190",
   "metadata": {},
   "outputs": [],
   "source": [
    "x = kc.drop('TmScore', axis=1)\n",
    "y = kc['TmScore']\n",
    "\n",
    "from sklearn.model_selection import train_test_split\n",
    "x_train, x_test, y_train, y_test = train_test_split(x,y,test_size=0.2,random_state=0)"
   ]
  },
  {
   "cell_type": "code",
   "execution_count": 95,
   "id": "67466882",
   "metadata": {},
   "outputs": [
    {
     "data": {
      "text/plain": [
       "LinearRegression()"
      ]
     },
     "execution_count": 95,
     "metadata": {},
     "output_type": "execute_result"
    }
   ],
   "source": [
    "from sklearn.linear_model import LinearRegression\n",
    "reg = LinearRegression()\n",
    "reg.fit(x_train,y_train)"
   ]
  },
  {
   "cell_type": "code",
   "execution_count": 100,
   "id": "783664a2",
   "metadata": {},
   "outputs": [
    {
     "data": {
      "text/plain": [
       "0.4646595537318676"
      ]
     },
     "execution_count": 100,
     "metadata": {},
     "output_type": "execute_result"
    }
   ],
   "source": [
    "r2 = r2_score(y_test, reg.predict(x_test))\n",
    "r2"
   ]
  },
  {
   "cell_type": "code",
   "execution_count": 96,
   "id": "23c67903",
   "metadata": {},
   "outputs": [
    {
     "data": {
      "text/html": [
       "<div>\n",
       "<style scoped>\n",
       "    .dataframe tbody tr th:only-of-type {\n",
       "        vertical-align: middle;\n",
       "    }\n",
       "\n",
       "    .dataframe tbody tr th {\n",
       "        vertical-align: top;\n",
       "    }\n",
       "\n",
       "    .dataframe thead th {\n",
       "        text-align: right;\n",
       "    }\n",
       "</style>\n",
       "<table border=\"1\" class=\"dataframe\">\n",
       "  <thead>\n",
       "    <tr style=\"text-align: right;\">\n",
       "      <th></th>\n",
       "      <th>Actual</th>\n",
       "      <th>Predict</th>\n",
       "    </tr>\n",
       "  </thead>\n",
       "  <tbody>\n",
       "    <tr>\n",
       "      <th>0</th>\n",
       "      <td>44.0</td>\n",
       "      <td>33.933302</td>\n",
       "    </tr>\n",
       "    <tr>\n",
       "      <th>1</th>\n",
       "      <td>27.0</td>\n",
       "      <td>24.123744</td>\n",
       "    </tr>\n",
       "    <tr>\n",
       "      <th>2</th>\n",
       "      <td>17.0</td>\n",
       "      <td>20.640817</td>\n",
       "    </tr>\n",
       "    <tr>\n",
       "      <th>3</th>\n",
       "      <td>41.0</td>\n",
       "      <td>38.468031</td>\n",
       "    </tr>\n",
       "    <tr>\n",
       "      <th>4</th>\n",
       "      <td>30.0</td>\n",
       "      <td>28.031033</td>\n",
       "    </tr>\n",
       "    <tr>\n",
       "      <th>5</th>\n",
       "      <td>20.0</td>\n",
       "      <td>26.211970</td>\n",
       "    </tr>\n",
       "    <tr>\n",
       "      <th>6</th>\n",
       "      <td>44.0</td>\n",
       "      <td>34.696110</td>\n",
       "    </tr>\n",
       "    <tr>\n",
       "      <th>7</th>\n",
       "      <td>20.0</td>\n",
       "      <td>25.526163</td>\n",
       "    </tr>\n",
       "    <tr>\n",
       "      <th>8</th>\n",
       "      <td>27.0</td>\n",
       "      <td>25.831630</td>\n",
       "    </tr>\n",
       "    <tr>\n",
       "      <th>9</th>\n",
       "      <td>30.0</td>\n",
       "      <td>33.233691</td>\n",
       "    </tr>\n",
       "    <tr>\n",
       "      <th>10</th>\n",
       "      <td>26.0</td>\n",
       "      <td>27.539890</td>\n",
       "    </tr>\n",
       "    <tr>\n",
       "      <th>11</th>\n",
       "      <td>24.0</td>\n",
       "      <td>25.112940</td>\n",
       "    </tr>\n",
       "    <tr>\n",
       "      <th>12</th>\n",
       "      <td>34.0</td>\n",
       "      <td>21.749483</td>\n",
       "    </tr>\n",
       "    <tr>\n",
       "      <th>13</th>\n",
       "      <td>30.0</td>\n",
       "      <td>34.611323</td>\n",
       "    </tr>\n",
       "    <tr>\n",
       "      <th>14</th>\n",
       "      <td>24.0</td>\n",
       "      <td>20.629412</td>\n",
       "    </tr>\n",
       "    <tr>\n",
       "      <th>15</th>\n",
       "      <td>27.0</td>\n",
       "      <td>24.598303</td>\n",
       "    </tr>\n",
       "    <tr>\n",
       "      <th>16</th>\n",
       "      <td>31.0</td>\n",
       "      <td>30.500762</td>\n",
       "    </tr>\n",
       "    <tr>\n",
       "      <th>17</th>\n",
       "      <td>27.0</td>\n",
       "      <td>29.461187</td>\n",
       "    </tr>\n",
       "    <tr>\n",
       "      <th>18</th>\n",
       "      <td>23.0</td>\n",
       "      <td>26.390117</td>\n",
       "    </tr>\n",
       "    <tr>\n",
       "      <th>19</th>\n",
       "      <td>NaN</td>\n",
       "      <td>27.962627</td>\n",
       "    </tr>\n",
       "  </tbody>\n",
       "</table>\n",
       "</div>"
      ],
      "text/plain": [
       "    Actual    Predict\n",
       "0     44.0  33.933302\n",
       "1     27.0  24.123744\n",
       "2     17.0  20.640817\n",
       "3     41.0  38.468031\n",
       "4     30.0  28.031033\n",
       "5     20.0  26.211970\n",
       "6     44.0  34.696110\n",
       "7     20.0  25.526163\n",
       "8     27.0  25.831630\n",
       "9     30.0  33.233691\n",
       "10    26.0  27.539890\n",
       "11    24.0  25.112940\n",
       "12    34.0  21.749483\n",
       "13    30.0  34.611323\n",
       "14    24.0  20.629412\n",
       "15    27.0  24.598303\n",
       "16    31.0  30.500762\n",
       "17    27.0  29.461187\n",
       "18    23.0  26.390117\n",
       "19     NaN  27.962627"
      ]
     },
     "execution_count": 96,
     "metadata": {},
     "output_type": "execute_result"
    }
   ],
   "source": [
    "y_pred = reg.predict(test.drop('TmScore',axis=1))\n",
    "df = pd.DataFrame({'Actual':test['TmScore'],'Predict':y_pred})\n",
    "df"
   ]
  },
  {
   "cell_type": "code",
   "execution_count": 97,
   "id": "dfd5812a",
   "metadata": {},
   "outputs": [],
   "source": [
    "def MAPE(Y_actual,Y_Predicted):\n",
    "    mape = np.mean(np.abs((Y_actual - Y_Predicted)/Y_actual))\n",
    "    return mape"
   ]
  },
  {
   "cell_type": "code",
   "execution_count": 98,
   "id": "c4d18b1f",
   "metadata": {},
   "outputs": [
    {
     "name": "stdout",
     "output_type": "stream",
     "text": [
      "MAPE:  0.1436820616395271\n"
     ]
    }
   ],
   "source": [
    "LR_MAPE= MAPE(test['TmScore'],y_pred)\n",
    "print(\"MAPE: \",LR_MAPE)"
   ]
  },
  {
   "cell_type": "code",
   "execution_count": 99,
   "id": "80c80b96",
   "metadata": {},
   "outputs": [
    {
     "data": {
      "text/plain": [
       "array([ 0.4760239 ,  0.02792877,  0.00720744,  0.02072132, -2.48783684,\n",
       "        0.54275847, -0.01273821,  0.0058204 , -0.01855861,  1.19437149])"
      ]
     },
     "execution_count": 99,
     "metadata": {},
     "output_type": "execute_result"
    }
   ],
   "source": [
    "reg.coef_"
   ]
  },
  {
   "cell_type": "markdown",
   "id": "e58db0df",
   "metadata": {},
   "source": [
    "## KC Chief predicted points is 28"
   ]
  }
 ],
 "metadata": {
  "kernelspec": {
   "display_name": "Python 3 (ipykernel)",
   "language": "python",
   "name": "python3"
  },
  "language_info": {
   "codemirror_mode": {
    "name": "ipython",
    "version": 3
   },
   "file_extension": ".py",
   "mimetype": "text/x-python",
   "name": "python",
   "nbconvert_exporter": "python",
   "pygments_lexer": "ipython3",
   "version": "3.9.13"
  }
 },
 "nbformat": 4,
 "nbformat_minor": 5
}
